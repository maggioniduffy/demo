{
 "cells": [
  {
   "cell_type": "markdown",
   "id": "bc711d24",
   "metadata": {
    "papermill": {
     "duration": 0.006627,
     "end_time": "2023-06-03T00:06:19.400881",
     "exception": false,
     "start_time": "2023-06-03T00:06:19.394254",
     "status": "completed"
    },
    "tags": []
   },
   "source": [
    "# Configuración"
   ]
  },
  {
   "cell_type": "code",
   "execution_count": 1,
   "id": "b84a6d50",
   "metadata": {
    "execution": {
     "iopub.execute_input": "2023-06-03T00:06:19.417076Z",
     "iopub.status.busy": "2023-06-03T00:06:19.415610Z",
     "iopub.status.idle": "2023-06-03T00:06:21.485587Z",
     "shell.execute_reply": "2023-06-03T00:06:21.483538Z"
    },
    "papermill": {
     "duration": 2.08199,
     "end_time": "2023-06-03T00:06:21.489644",
     "exception": false,
     "start_time": "2023-06-03T00:06:19.407654",
     "status": "completed"
    },
    "tags": []
   },
   "outputs": [],
   "source": [
    "from seaborn import heatmap\n",
    "import numpy as np\n",
    "import matplotlib.pyplot as plt"
   ]
  },
  {
   "cell_type": "code",
   "execution_count": 2,
   "id": "98cf60cc",
   "metadata": {
    "execution": {
     "iopub.execute_input": "2023-06-03T00:06:21.505115Z",
     "iopub.status.busy": "2023-06-03T00:06:21.504656Z",
     "iopub.status.idle": "2023-06-03T00:06:21.541779Z",
     "shell.execute_reply": "2023-06-03T00:06:21.540423Z"
    },
    "papermill": {
     "duration": 0.048641,
     "end_time": "2023-06-03T00:06:21.545113",
     "exception": false,
     "start_time": "2023-06-03T00:06:21.496472",
     "status": "completed"
    },
    "tags": []
   },
   "outputs": [
    {
     "data": {
      "image/png": "[encoded data removed]",
      "text/html": [
       "<div style=\"vertical-align: middle;\"><strong>binary</strong> </div><div class=\"cmap\"><img alt=\"binary colormap\" title=\"binary\" style=\"border: 1px solid #555;\" src=\"data:image/png;base64,iVBORw0KGgoAAAANSUhEUgAAAgAAAABACAYAAABsv8+/AAAAFXRFWHRUaXRsZQBiaW5hcnkgY29sb3JtYXDgovmoAAAAG3RFWHREZXNjcmlwdGlvbgBiaW5hcnkgY29sb3JtYXCpNeFMAAAAMHRFWHRBdXRob3IATWF0cGxvdGxpYiB2My43LjEsIGh0dHBzOi8vbWF0cGxvdGxpYi5vcmcqr/hNAAAAMnRFWHRTb2Z0d2FyZQBNYXRwbG90bGliIHYzLjcuMSwgaHR0cHM6Ly9tYXRwbG90bGliLm9yZwQJZ2oAAAFQSURBVHic7dYxDsIwFAXBD/c/s01DJERHBBLRzjRWCvul3Nvee8/MPA/nl8611ryyb//K+2ffO+4d32f/x/5/7H/6zvu9s/9h/zf79wEAcgQAAAQJAAAIEgAAECQAACBIAABAkAAAgCABAABBAgAAggQAAAQJAAAIEgAAECQAACBIAABAkAAAgCABAABBAgAAggQAAAQJAAAIEgAAECQAACBIAABAkAAAgCABAABBAgAAggQAAAQJAAAIEgAAECQAACBIAABAkAAAgCABAABBAgAAggQAAAQJAAAIEgAAECQAACBIAABAkAAAgCABAABBAgAAggQAAAQJAAAIEgAAECQAACBIAABAkAAAgCABAABBAgAAggQAAAQJAAAIEgAAECQAACBIAABAkAAAgCABAABBAgAAggQAAAQJAAAIEgAAECQAACBIAABAkAAAgKAHBe68nT8SsbMAAAAASUVORK5CYII=\"></div><div style=\"vertical-align: middle; max-width: 514px; display: flex; justify-content: space-between;\"><div style=\"float: left;\"><div title=\"#ffffffff\" style=\"display: inline-block; width: 1em; height: 1em; margin: 0; vertical-align: middle; border: 1px solid #555; background-color: #ffffffff;\"></div> under</div><div style=\"margin: 0 auto; display: inline-block;\">bad <div title=\"#00000000\" style=\"display: inline-block; width: 1em; height: 1em; margin: 0; vertical-align: middle; border: 1px solid #555; background-color: #00000000;\"></div></div><div style=\"float: right;\">over <div title=\"#000000ff\" style=\"display: inline-block; width: 1em; height: 1em; margin: 0; vertical-align: middle; border: 1px solid #555; background-color: #000000ff;\"></div></div>"
      ],
      "text/plain": [
       "<matplotlib.colors.LinearSegmentedColormap at 0x7a6ab6226080>"
      ]
     },
     "execution_count": 2,
     "metadata": {},
     "output_type": "execute_result"
    }
   ],
   "source": [
    "monocromatic_cmap = plt.get_cmap('binary')\n",
    "monocromatic_cmap"
   ]
  },
  {
   "cell_type": "markdown",
   "id": "949bbc6b",
   "metadata": {
    "papermill": {
     "duration": 0.006907,
     "end_time": "2023-06-03T00:06:21.559031",
     "exception": false,
     "start_time": "2023-06-03T00:06:21.552124",
     "status": "completed"
    },
    "tags": []
   },
   "source": [
    "# Explicación de la Fuente"
   ]
  },
  {
   "cell_type": "code",
   "execution_count": 3,
   "id": "07f5a7cc",
   "metadata": {
    "execution": {
     "iopub.execute_input": "2023-06-03T00:06:21.575637Z",
     "iopub.status.busy": "2023-06-03T00:06:21.575057Z",
     "iopub.status.idle": "2023-06-03T00:06:21.620079Z",
     "shell.execute_reply": "2023-06-03T00:06:21.618871Z"
    },
    "papermill": {
     "duration": 0.057108,
     "end_time": "2023-06-03T00:06:21.622947",
     "exception": false,
     "start_time": "2023-06-03T00:06:21.565839",
     "status": "completed"
    },
    "tags": []
   },
   "outputs": [],
   "source": [
    "font_1 = np.array([\n",
    "   [0x00, 0x00, 0x00, 0x00, 0x00, 0x00, 0x00],   # 0x20, space\n",
    "   [0x04, 0x04, 0x04, 0x04, 0x04, 0x00, 0x04],   # 0x21, !\n",
    "   [0x09, 0x09, 0x12, 0x00, 0x00, 0x00, 0x00],   # 0x22, \"\n",
    "   [0x0a, 0x0a, 0x1f, 0x0a, 0x1f, 0x0a, 0x0a],   # 0x23, #\n",
    "   [0x04, 0x0f, 0x14, 0x0e, 0x05, 0x1e, 0x04],   # 0x24, $\n",
    "   [0x19, 0x19, 0x02, 0x04, 0x08, 0x13, 0x13],   # 0x25, %\n",
    "   [0x04, 0x0a, 0x0a, 0x0a, 0x15, 0x12, 0x0d],   # 0x26, &\n",
    "   [0x04, 0x04, 0x08, 0x00, 0x00, 0x00, 0x00],   # 0x27, '\n",
    "   [0x02, 0x04, 0x08, 0x08, 0x08, 0x04, 0x02],   # 0x28, (\n",
    "   [0x08, 0x04, 0x02, 0x02, 0x02, 0x04, 0x08],   # 0x29, )\n",
    "   [0x04, 0x15, 0x0e, 0x1f, 0x0e, 0x15, 0x04],   # 0x2a, *\n",
    "   [0x00, 0x04, 0x04, 0x1f, 0x04, 0x04, 0x00],   # 0x2b, +\n",
    "   [0x00, 0x00, 0x00, 0x00, 0x04, 0x04, 0x08],   # 0x2c, ,\n",
    "   [0x00, 0x00, 0x00, 0x1f, 0x00, 0x00, 0x00],   # 0x2d, -\n",
    "   [0x00, 0x00, 0x00, 0x00, 0x00, 0x0c, 0x0c],   # 0x2e, .\n",
    "   [0x01, 0x01, 0x02, 0x04, 0x08, 0x10, 0x10],   # 0x2f, /\n",
    "   [0x0e, 0x11, 0x13, 0x15, 0x19, 0x11, 0x0e],   # 0x30, 0\n",
    "   [0x04, 0x0c, 0x04, 0x04, 0x04, 0x04, 0x0e],   # 0x31, 1\n",
    "   [0x0e, 0x11, 0x01, 0x02, 0x04, 0x08, 0x1f],   # 0x32, 2\n",
    "   [0x0e, 0x11, 0x01, 0x06, 0x01, 0x11, 0x0e],   # 0x33, 3\n",
    "   [0x02, 0x06, 0x0a, 0x12, 0x1f, 0x02, 0x02],   # 0x34, 4\n",
    "   [0x1f, 0x10, 0x1e, 0x01, 0x01, 0x11, 0x0e],   # 0x35, 5\n",
    "   [0x06, 0x08, 0x10, 0x1e, 0x11, 0x11, 0x0e],   # 0x36, 6\n",
    "   [0x1f, 0x01, 0x02, 0x04, 0x08, 0x08, 0x08],   # 0x37, 7\n",
    "   [0x0e, 0x11, 0x11, 0x0e, 0x11, 0x11, 0x0e],   # 0x38, 8\n",
    "   [0x0e, 0x11, 0x11, 0x0f, 0x01, 0x02, 0x0c],   # 0x39, 9\n",
    "   [0x00, 0x0c, 0x0c, 0x00, 0x0c, 0x0c, 0x00],   # 0x3a, :\n",
    "   [0x00, 0x0c, 0x0c, 0x00, 0x0c, 0x04, 0x08],   # 0x3b, ;\n",
    "   [0x02, 0x04, 0x08, 0x10, 0x08, 0x04, 0x02],   # 0x3c, <\n",
    "   [0x00, 0x00, 0x1f, 0x00, 0x1f, 0x00, 0x00],   # 0x3d, =\n",
    "   [0x08, 0x04, 0x02, 0x01, 0x02, 0x04, 0x08],   # 0x3e, >\n",
    "   [0x0e, 0x11, 0x01, 0x02, 0x04, 0x00, 0x04]   # 0x3f, ?\n",
    "   ])\n",
    "\n",
    "font_2 = np.array([\n",
    "   [0x0e, 0x11, 0x17, 0x15, 0x17, 0x10, 0x0f],   # 0x40, @\n",
    "   [0x04, 0x0a, 0x11, 0x11, 0x1f, 0x11, 0x11],   # 0x41, A\n",
    "   [0x1e, 0x11, 0x11, 0x1e, 0x11, 0x11, 0x1e],   # 0x42, B\n",
    "   [0x0e, 0x11, 0x10, 0x10, 0x10, 0x11, 0x0e],   # 0x43, C\n",
    "   [0x1e, 0x09, 0x09, 0x09, 0x09, 0x09, 0x1e],   # 0x44, D\n",
    "   [0x1f, 0x10, 0x10, 0x1c, 0x10, 0x10, 0x1f],   # 0x45, E\n",
    "   [0x1f, 0x10, 0x10, 0x1f, 0x10, 0x10, 0x10],   # 0x46, F\n",
    "   [0x0e, 0x11, 0x10, 0x10, 0x13, 0x11, 0x0f],   # 0x37, G\n",
    "   [0x11, 0x11, 0x11, 0x1f, 0x11, 0x11, 0x11],   # 0x48, H\n",
    "   [0x0e, 0x04, 0x04, 0x04, 0x04, 0x04, 0x0e],   # 0x49, I\n",
    "   [0x1f, 0x02, 0x02, 0x02, 0x02, 0x12, 0x0c],   # 0x4a, J\n",
    "   [0x11, 0x12, 0x14, 0x18, 0x14, 0x12, 0x11],   # 0x4b, K\n",
    "   [0x10, 0x10, 0x10, 0x10, 0x10, 0x10, 0x1f],   # 0x4c, L\n",
    "   [0x11, 0x1b, 0x15, 0x11, 0x11, 0x11, 0x11],   # 0x4d, M\n",
    "   [0x11, 0x11, 0x19, 0x15, 0x13, 0x11, 0x11],   # 0x4e, N\n",
    "   [0x0e, 0x11, 0x11, 0x11, 0x11, 0x11, 0x0e],   # 0x4f, O\n",
    "   [0x1e, 0x11, 0x11, 0x1e, 0x10, 0x10, 0x10],   # 0x50, P\n",
    "   [0x0e, 0x11, 0x11, 0x11, 0x15, 0x12, 0x0d],   # 0x51, Q\n",
    "   [0x1e, 0x11, 0x11, 0x1e, 0x14, 0x12, 0x11],   # 0x52, R\n",
    "   [0x0e, 0x11, 0x10, 0x0e, 0x01, 0x11, 0x0e],   # 0x53, S\n",
    "   [0x1f, 0x04, 0x04, 0x04, 0x04, 0x04, 0x04],   # 0x54, T\n",
    "   [0x11, 0x11, 0x11, 0x11, 0x11, 0x11, 0x0e],   # 0x55, U\n",
    "   [0x11, 0x11, 0x11, 0x11, 0x11, 0x0a, 0x04],   # 0x56, V\n",
    "   [0x11, 0x11, 0x11, 0x15, 0x15, 0x1b, 0x11],   # 0x57, W\n",
    "   [0x11, 0x11, 0x0a, 0x04, 0x0a, 0x11, 0x11],   # 0x58, X\n",
    "   [0x11, 0x11, 0x0a, 0x04, 0x04, 0x04, 0x04],   # 0x59, Y\n",
    "   [0x1f, 0x01, 0x02, 0x04, 0x08, 0x10, 0x1f],   # 0x5a, Z\n",
    "   [0x0e, 0x08, 0x08, 0x08, 0x08, 0x08, 0x0e],   # 0x5b, [\n",
    "   [0x10, 0x10, 0x08, 0x04, 0x02, 0x01, 0x01],   # 0x5c, \\\\\n",
    "   [0x0e, 0x02, 0x02, 0x02, 0x02, 0x02, 0x0e],   # 0x5d, ]\n",
    "   [0x04, 0x0a, 0x11, 0x00, 0x00, 0x00, 0x00],   # 0x5e, ^\n",
    "   [0x00, 0x00, 0x00, 0x00, 0x00, 0x00, 0x1f]   # 0x5f, _\n",
    "   ])\n",
    "\n",
    "font_3 = np.array([\n",
    "   [0x04, 0x04, 0x02, 0x00, 0x00, 0x00, 0x00],   # 0x60, `\n",
    "   [0x00, 0x0e, 0x01, 0x0d, 0x13, 0x13, 0x0d],   # 0x61, a\n",
    "   [0x10, 0x10, 0x10, 0x1c, 0x12, 0x12, 0x1c],   # 0x62, b\n",
    "   [0x00, 0x00, 0x00, 0x0e, 0x10, 0x10, 0x0e],   # 0x63, c\n",
    "   [0x01, 0x01, 0x01, 0x07, 0x09, 0x09, 0x07],   # 0x64, d\n",
    "   [0x00, 0x00, 0x0e, 0x11, 0x1f, 0x10, 0x0f],   # 0x65, e\n",
    "   [0x06, 0x09, 0x08, 0x1c, 0x08, 0x08, 0x08],   # 0x66, f\n",
    "   [0x0e, 0x11, 0x13, 0x0d, 0x01, 0x01, 0x0e],   # 0x67, g\n",
    "   [0x10, 0x10, 0x10, 0x16, 0x19, 0x11, 0x11],   # 0x68, h\n",
    "   [0x00, 0x04, 0x00, 0x0c, 0x04, 0x04, 0x0e],   # 0x69, i\n",
    "   [0x02, 0x00, 0x06, 0x02, 0x02, 0x12, 0x0c],   # 0x6a, j\n",
    "   [0x10, 0x10, 0x12, 0x14, 0x18, 0x14, 0x12],   # 0x6b, k\n",
    "   [0x0c, 0x04, 0x04, 0x04, 0x04, 0x04, 0x04],   # 0x6c, l\n",
    "   [0x00, 0x00, 0x0a, 0x15, 0x15, 0x11, 0x11],   # 0x6d, m\n",
    "   [0x00, 0x00, 0x16, 0x19, 0x11, 0x11, 0x11],   # 0x6e, n\n",
    "   [0x00, 0x00, 0x0e, 0x11, 0x11, 0x11, 0x0e],   # 0x6f, o\n",
    "   [0x00, 0x1c, 0x12, 0x12, 0x1c, 0x10, 0x10],   # 0x70, p\n",
    "   [0x00, 0x07, 0x09, 0x09, 0x07, 0x01, 0x01],   # 0x71, q\n",
    "   [0x00, 0x00, 0x16, 0x19, 0x10, 0x10, 0x10],   # 0x72, r\n",
    "   [0x00, 0x00, 0x0f, 0x10, 0x0e, 0x01, 0x1e],   # 0x73, s\n",
    "   [0x08, 0x08, 0x1c, 0x08, 0x08, 0x09, 0x06],   # 0x74, t\n",
    "   [0x00, 0x00, 0x11, 0x11, 0x11, 0x13, 0x0d],   # 0x75, u\n",
    "   [0x00, 0x00, 0x11, 0x11, 0x11, 0x0a, 0x04],   # 0x76, v\n",
    "   [0x00, 0x00, 0x11, 0x11, 0x15, 0x15, 0x0a],   # 0x77, w\n",
    "   [0x00, 0x00, 0x11, 0x0a, 0x04, 0x0a, 0x11],   # 0x78, x\n",
    "   [0x00, 0x11, 0x11, 0x0f, 0x01, 0x11, 0x0e],   # 0x79, y\n",
    "   [0x00, 0x00, 0x1f, 0x02, 0x04, 0x08, 0x1f],   # 0x7a, z\n",
    "   [0x06, 0x08, 0x08, 0x10, 0x08, 0x08, 0x06],   # 0x7b, [\n",
    "   [0x04, 0x04, 0x04, 0x00, 0x04, 0x04, 0x04],   # 0x7c, |\n",
    "   [0x0c, 0x02, 0x02, 0x01, 0x02, 0x02, 0x0c],   # 0x7d, ]\n",
    "   [0x08, 0x15, 0x02, 0x00, 0x00, 0x00, 0x00],   # 0x7e, ~\n",
    "   [0x1f, 0x1f, 0x1f, 0x1f, 0x1f, 0x1f, 0x1f]   # 0x7f, DEL\n",
    "   ])"
   ]
  },
  {
   "cell_type": "markdown",
   "id": "0aba66df",
   "metadata": {
    "papermill": {
     "duration": 0.006576,
     "end_time": "2023-06-03T00:06:21.637347",
     "exception": false,
     "start_time": "2023-06-03T00:06:21.630771",
     "status": "completed"
    },
    "tags": []
   },
   "source": [
    "## Tenemos caracteres de 7 filas con 5 columnas"
   ]
  },
  {
   "cell_type": "code",
   "execution_count": 4,
   "id": "c2e5b9ab",
   "metadata": {
    "execution": {
     "iopub.execute_input": "2023-06-03T00:06:21.656842Z",
     "iopub.status.busy": "2023-06-03T00:06:21.655346Z",
     "iopub.status.idle": "2023-06-03T00:06:21.665940Z",
     "shell.execute_reply": "2023-06-03T00:06:21.664921Z"
    },
    "papermill": {
     "duration": 0.021376,
     "end_time": "2023-06-03T00:06:21.668423",
     "exception": false,
     "start_time": "2023-06-03T00:06:21.647047",
     "status": "completed"
    },
    "tags": []
   },
   "outputs": [
    {
     "data": {
      "text/plain": [
       "array([[0, 0, 0, 0, 0],\n",
       "       [0, 0, 0, 0, 0],\n",
       "       [0, 0, 0, 0, 0],\n",
       "       [0, 0, 0, 0, 0],\n",
       "       [0, 0, 0, 0, 0],\n",
       "       [0, 0, 0, 0, 0],\n",
       "       [0, 0, 0, 0, 0]])"
      ]
     },
     "execution_count": 4,
     "metadata": {},
     "output_type": "execute_result"
    }
   ],
   "source": [
    "character_template = np.array([[0] * 5] * 7)\n",
    "character_template"
   ]
  },
  {
   "cell_type": "code",
   "execution_count": 5,
   "id": "d9a4ce45",
   "metadata": {
    "execution": {
     "iopub.execute_input": "2023-06-03T00:06:21.686204Z",
     "iopub.status.busy": "2023-06-03T00:06:21.685781Z",
     "iopub.status.idle": "2023-06-03T00:06:21.968028Z",
     "shell.execute_reply": "2023-06-03T00:06:21.966871Z"
    },
    "papermill": {
     "duration": 0.293939,
     "end_time": "2023-06-03T00:06:21.970599",
     "exception": false,
     "start_time": "2023-06-03T00:06:21.676660",
     "status": "completed"
    },
    "tags": []
   },
   "outputs": [
    {
     "data": {
      "text/plain": [
       "<Axes: >"
      ]
     },
     "execution_count": 5,
     "metadata": {},
     "output_type": "execute_result"
    },
    {
     "data": {
      "image/png": "[encoded data removed]",
      "text/plain": [
       "<Figure size 640x480 with 1 Axes>"
      ]
     },
     "metadata": {},
     "output_type": "display_data"
    }
   ],
   "source": [
    "heatmap(\n",
    "        character_template, \n",
    "        linewidths=0.2, \n",
    "        cbar=False, \n",
    "        square=True,\n",
    "        cmap=monocromatic_cmap, \n",
    "        linecolor='k')"
   ]
  },
  {
   "cell_type": "markdown",
   "id": "2c075bfa",
   "metadata": {
    "papermill": {
     "duration": 0.007111,
     "end_time": "2023-06-03T00:06:21.985847",
     "exception": false,
     "start_time": "2023-06-03T00:06:21.978736",
     "status": "completed"
    },
    "tags": []
   },
   "source": [
    "## Tomo un caracter. En este caso, el equivalente al !"
   ]
  },
  {
   "cell_type": "code",
   "execution_count": 6,
   "id": "73490c64",
   "metadata": {
    "execution": {
     "iopub.execute_input": "2023-06-03T00:06:22.003852Z",
     "iopub.status.busy": "2023-06-03T00:06:22.003439Z",
     "iopub.status.idle": "2023-06-03T00:06:22.010649Z",
     "shell.execute_reply": "2023-06-03T00:06:22.008979Z"
    },
    "papermill": {
     "duration": 0.019928,
     "end_time": "2023-06-03T00:06:22.013973",
     "exception": false,
     "start_time": "2023-06-03T00:06:21.994045",
     "status": "completed"
    },
    "tags": []
   },
   "outputs": [
    {
     "name": "stdout",
     "output_type": "stream",
     "text": [
      "Mi caracter: \t [4 4 4 4 4 0 4]\n",
      "Longitud: \t 7\n"
     ]
    }
   ],
   "source": [
    "print(\"Mi caracter: \\t\", font_1[1])\n",
    "print(\"Longitud: \\t\", len(font_1[1]))"
   ]
  },
  {
   "cell_type": "markdown",
   "id": "cb475e64",
   "metadata": {
    "papermill": {
     "duration": 0.006963,
     "end_time": "2023-06-03T00:06:22.028946",
     "exception": false,
     "start_time": "2023-06-03T00:06:22.021983",
     "status": "completed"
    },
    "tags": []
   },
   "source": [
    "## ¿Cómo lo debería interpretar?"
   ]
  },
  {
   "cell_type": "code",
   "execution_count": 7,
   "id": "f6928251",
   "metadata": {
    "execution": {
     "iopub.execute_input": "2023-06-03T00:06:22.049175Z",
     "iopub.status.busy": "2023-06-03T00:06:22.048067Z",
     "iopub.status.idle": "2023-06-03T00:06:22.055100Z",
     "shell.execute_reply": "2023-06-03T00:06:22.053833Z"
    },
    "papermill": {
     "duration": 0.021626,
     "end_time": "2023-06-03T00:06:22.059028",
     "exception": false,
     "start_time": "2023-06-03T00:06:22.037402",
     "status": "completed"
    },
    "tags": []
   },
   "outputs": [
    {
     "name": "stdout",
     "output_type": "stream",
     "text": [
      "[[4]\n",
      " [4]\n",
      " [4]\n",
      " [4]\n",
      " [4]\n",
      " [0]\n",
      " [4]]\n"
     ]
    }
   ],
   "source": [
    "character = np.copy(font_1[1])\n",
    "character.resize(7, 1)\n",
    "print(character)"
   ]
  },
  {
   "cell_type": "code",
   "execution_count": 8,
   "id": "4f1a9d50",
   "metadata": {
    "execution": {
     "iopub.execute_input": "2023-06-03T00:06:22.078128Z",
     "iopub.status.busy": "2023-06-03T00:06:22.077685Z",
     "iopub.status.idle": "2023-06-03T00:06:22.086266Z",
     "shell.execute_reply": "2023-06-03T00:06:22.084198Z"
    },
    "papermill": {
     "duration": 0.021968,
     "end_time": "2023-06-03T00:06:22.089025",
     "exception": false,
     "start_time": "2023-06-03T00:06:22.067057",
     "status": "completed"
    },
    "tags": []
   },
   "outputs": [
    {
     "name": "stdout",
     "output_type": "stream",
     "text": [
      "\n",
      "    0x\u001b[96m0\u001b[0m\u001b[93m4\u001b[0m\n",
      "    == (hexa como notación acotada de binario)\n",
      "    \u001b[96m0000\u001b[0m \u001b[93m0100\u001b[0m\n",
      "    == (los tres bits más significativos se descartan)\n",
      "    \u001b[96m0\u001b[0m \u001b[93m0100\u001b[0m\n",
      "    ==\n",
      "    \u001b[92m00100\u001b[0m\n"
     ]
    }
   ],
   "source": [
    "print(\"\"\"\n",
    "    0x\\033[96m0\\033[0m\\033[93m4\\033[0m\n",
    "    == (hexa como notación acotada de binario)\n",
    "    \\033[96m0000\\033[0m \\033[93m0100\\033[0m\n",
    "    == (los tres bits más significativos se descartan)\n",
    "    \\033[96m0\\033[0m \\033[93m0100\\033[0m\n",
    "    ==\n",
    "    \\033[92m00100\\033[0m\"\"\")"
   ]
  },
  {
   "cell_type": "code",
   "execution_count": 9,
   "id": "27d1a2fe",
   "metadata": {
    "execution": {
     "iopub.execute_input": "2023-06-03T00:06:22.106896Z",
     "iopub.status.busy": "2023-06-03T00:06:22.106161Z",
     "iopub.status.idle": "2023-06-03T00:06:22.113125Z",
     "shell.execute_reply": "2023-06-03T00:06:22.111815Z"
    },
    "papermill": {
     "duration": 0.018461,
     "end_time": "2023-06-03T00:06:22.115714",
     "exception": false,
     "start_time": "2023-06-03T00:06:22.097253",
     "status": "completed"
    },
    "tags": []
   },
   "outputs": [],
   "source": [
    "bin_array = np.zeros(5, dtype=int)\n",
    "for i in range(0,5):\n",
    "    bin_array[4-i] = character[0] & 1\n",
    "    character[0] >>= 1\n",
    "bin_array.resize(1, 5)"
   ]
  },
  {
   "cell_type": "code",
   "execution_count": 10,
   "id": "07008861",
   "metadata": {
    "execution": {
     "iopub.execute_input": "2023-06-03T00:06:22.132880Z",
     "iopub.status.busy": "2023-06-03T00:06:22.132462Z",
     "iopub.status.idle": "2023-06-03T00:06:22.139854Z",
     "shell.execute_reply": "2023-06-03T00:06:22.138184Z"
    },
    "papermill": {
     "duration": 0.018986,
     "end_time": "2023-06-03T00:06:22.142636",
     "exception": false,
     "start_time": "2023-06-03T00:06:22.123650",
     "status": "completed"
    },
    "tags": []
   },
   "outputs": [],
   "source": [
    "only_first_row      = np.zeros((7, 5), dtype=int)\n",
    "only_first_row[0]   = bin_array * 4\n",
    "only_first_row[1:]  = np.ones((6, 5)) * 3"
   ]
  },
  {
   "cell_type": "code",
   "execution_count": 11,
   "id": "30dcc89e",
   "metadata": {
    "execution": {
     "iopub.execute_input": "2023-06-03T00:06:22.159751Z",
     "iopub.status.busy": "2023-06-03T00:06:22.159362Z",
     "iopub.status.idle": "2023-06-03T00:06:22.376629Z",
     "shell.execute_reply": "2023-06-03T00:06:22.374255Z"
    },
    "papermill": {
     "duration": 0.230777,
     "end_time": "2023-06-03T00:06:22.381162",
     "exception": false,
     "start_time": "2023-06-03T00:06:22.150385",
     "status": "completed"
    },
    "tags": []
   },
   "outputs": [
    {
     "data": {
      "text/plain": [
       "<Axes: >"
      ]
     },
     "execution_count": 11,
     "metadata": {},
     "output_type": "execute_result"
    },
    {
     "data": {
      "image/png": "[encoded data removed]",
      "text/plain": [
       "<Figure size 640x480 with 1 Axes>"
      ]
     },
     "metadata": {},
     "output_type": "display_data"
    }
   ],
   "source": [
    "heatmap(\n",
    "        only_first_row, \n",
    "        linewidths=0.2, \n",
    "        cbar=False, \n",
    "        square=True,\n",
    "        cmap=monocromatic_cmap, \n",
    "        linecolor='k')"
   ]
  },
  {
   "cell_type": "code",
   "execution_count": 12,
   "id": "2a1d6d50",
   "metadata": {
    "execution": {
     "iopub.execute_input": "2023-06-03T00:06:22.400452Z",
     "iopub.status.busy": "2023-06-03T00:06:22.400055Z",
     "iopub.status.idle": "2023-06-03T00:06:22.407592Z",
     "shell.execute_reply": "2023-06-03T00:06:22.406159Z"
    },
    "papermill": {
     "duration": 0.020788,
     "end_time": "2023-06-03T00:06:22.410725",
     "exception": false,
     "start_time": "2023-06-03T00:06:22.389937",
     "status": "completed"
    },
    "tags": []
   },
   "outputs": [],
   "source": [
    "def to_bin_array(encoded_caracter):\n",
    "    bin_array = np.zeros((7, 5), dtype=int)\n",
    "    for row in range(0, 7):\n",
    "        current_row = encoded_caracter[row]\n",
    "        for col in range(0, 5):\n",
    "            bin_array[row][4-col] = current_row & 1\n",
    "            current_row >>= 1\n",
    "    return bin_array\n",
    "            \n",
    "    "
   ]
  },
  {
   "cell_type": "code",
   "execution_count": 13,
   "id": "8291ca81",
   "metadata": {
    "execution": {
     "iopub.execute_input": "2023-06-03T00:06:22.429373Z",
     "iopub.status.busy": "2023-06-03T00:06:22.428941Z",
     "iopub.status.idle": "2023-06-03T00:06:22.641017Z",
     "shell.execute_reply": "2023-06-03T00:06:22.639075Z"
    },
    "papermill": {
     "duration": 0.225751,
     "end_time": "2023-06-03T00:06:22.644197",
     "exception": false,
     "start_time": "2023-06-03T00:06:22.418446",
     "status": "completed"
    },
    "tags": []
   },
   "outputs": [
    {
     "data": {
      "text/plain": [
       "<Axes: >"
      ]
     },
     "execution_count": 13,
     "metadata": {},
     "output_type": "execute_result"
    },
    {
     "data": {
      "image/png": "[encoded data removed]",
      "text/plain": [
       "<Figure size 640x480 with 1 Axes>"
      ]
     },
     "metadata": {},
     "output_type": "display_data"
    }
   ],
   "source": [
    "heatmap(\n",
    "        to_bin_array(font_1[1]), \n",
    "        linewidths=0.2, \n",
    "        cbar=False, \n",
    "        square=True,\n",
    "        cmap=monocromatic_cmap, \n",
    "        linecolor='k')"
   ]
  }
 ],
 "metadata": {
  "kernelspec": {
   "display_name": "Python 3",
   "language": "python",
   "name": "python3"
  },
  "language_info": {
   "codemirror_mode": {
    "name": "ipython",
    "version": 3
   },
   "file_extension": ".py",
   "mimetype": "text/x-python",
   "name": "python",
   "nbconvert_exporter": "python",
   "pygments_lexer": "ipython3",
   "version": "3.10.10"
  },
  "papermill": {
   "default_parameters": {},
   "duration": 20.322692,
   "end_time": "2023-06-03T00:06:23.780496",
   "environment_variables": {},
   "exception": null,
   "input_path": "__notebook__.ipynb",
   "output_path": "__notebook__.ipynb",
   "parameters": {},
   "start_time": "2023-06-03T00:06:03.457804",
   "version": "2.4.0"
  }
 },
 "nbformat": 4,
 "nbformat_minor": 5
}
